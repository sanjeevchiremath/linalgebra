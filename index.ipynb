{
 "cells": [
  {
   "cell_type": "code",
   "execution_count": null,
   "metadata": {},
   "outputs": [],
   "source": [
    "#hide\n",
    "from linalgebra.core import *"
   ]
  },
  {
   "cell_type": "markdown",
   "metadata": {},
   "source": [
    "# Linear Algebgra\n",
    "\n",
    "> Project to experiemnt nbdev and learn Linear Algebra"
   ]
  },
  {
   "cell_type": "markdown",
   "metadata": {},
   "source": [
    "This is README and also the index of your documentation."
   ]
  },
  {
   "cell_type": "markdown",
   "metadata": {},
   "source": [
    "## Setup"
   ]
  },
  {
   "cell_type": "markdown",
   "metadata": {},
   "source": [
    "Following steps are Pre-requesits:\n",
    "<ul>\n",
    "    <li> Create Project specific Environment, <code> conda env crete linalgebra</code></li>\n",
    "    <li>Activate the environment using <code>conda activate linalgebra</code></li>\n",
    "    <li>Install [fastai nbdev] (https://www.fast.ai/2019/12/02/nbdev/ \"fastai\") - <code>conda install -c fastai nbdev</code></li>\n",
    "    <li> Create new project / module template <code> nbdev_new</code></li>\n",
    "    <li> install nb dev it hooks <code>nbdev_install_git_hooks </code></li>\n",
    "</ul>\n",
    "\n",
    "When budling docs using <code>nbdev_build_docs</code> I encountered error \"No such ernel named python3\", to avoid this install conda_kernels <code> conda install nb_conda_kernels</code> credit: (https://stackoverflow.com/questions/38257138/jupyter-no-such-kernel-named-python3)"
   ]
  },
  {
   "cell_type": "markdown",
   "metadata": {},
   "source": [
    "## Install\n",
    "pip install linalgebra "
   ]
  },
  {
   "cell_type": "markdown",
   "metadata": {},
   "source": [
    "## How to use"
   ]
  },
  {
   "cell_type": "code",
   "execution_count": null,
   "metadata": {},
   "outputs": [
    {
     "data": {
      "text/plain": [
       "'Hello Sanjeev!!'"
      ]
     },
     "execution_count": null,
     "metadata": {},
     "output_type": "execute_result"
    }
   ],
   "source": [
    "say_hello(\"Sanjeev!\")"
   ]
  },
  {
   "cell_type": "code",
   "execution_count": null,
   "metadata": {},
   "outputs": [],
   "source": []
  }
 ],
 "metadata": {
  "kernelspec": {
   "display_name": "Python 3",
   "language": "python",
   "name": "python3"
  }
 },
 "nbformat": 4,
 "nbformat_minor": 2
}
